{
  "nbformat": 4,
  "nbformat_minor": 0,
  "metadata": {
    "colab": {
      "provenance": []
    },
    "kernelspec": {
      "name": "python3",
      "display_name": "Python 3"
    },
    "language_info": {
      "name": "python"
    }
  },
  "cells": [
    {
      "cell_type": "code",
      "execution_count": null,
      "metadata": {
        "id": "Fy9Vb7wv4qhg"
      },
      "outputs": [],
      "source": [
        "import pandas as pd  #useful for loading/parsing the dataset\n",
        "import numpy as np   #to perform array operations"
      ]
    },
    {
      "cell_type": "markdown",
      "source": [
        "### *Choose dataset file from local directory*"
      ],
      "metadata": {
        "id": "ltCuFFq86Cbn"
      }
    },
    {
      "cell_type": "code",
      "source": [
        "from google.colab import files\n",
        "uploaded = files.upload()"
      ],
      "metadata": {
        "colab": {
          "base_uri": "https://localhost:8080/",
          "height": 74
        },
        "id": "-iD5-NiK6TSu",
        "outputId": "86be0088-d796-4f42-8e04-a562ca88fb84"
      },
      "execution_count": null,
      "outputs": [
        {
          "output_type": "display_data",
          "data": {
            "text/plain": [
              "<IPython.core.display.HTML object>"
            ],
            "text/html": [
              "\n",
              "     <input type=\"file\" id=\"files-55245023-287a-4419-bed3-b5b4bf508fc7\" name=\"files[]\" multiple disabled\n",
              "        style=\"border:none\" />\n",
              "     <output id=\"result-55245023-287a-4419-bed3-b5b4bf508fc7\">\n",
              "      Upload widget is only available when the cell has been executed in the\n",
              "      current browser session. Please rerun this cell to enable.\n",
              "      </output>\n",
              "      <script>// Copyright 2017 Google LLC\n",
              "//\n",
              "// Licensed under the Apache License, Version 2.0 (the \"License\");\n",
              "// you may not use this file except in compliance with the License.\n",
              "// You may obtain a copy of the License at\n",
              "//\n",
              "//      http://www.apache.org/licenses/LICENSE-2.0\n",
              "//\n",
              "// Unless required by applicable law or agreed to in writing, software\n",
              "// distributed under the License is distributed on an \"AS IS\" BASIS,\n",
              "// WITHOUT WARRANTIES OR CONDITIONS OF ANY KIND, either express or implied.\n",
              "// See the License for the specific language governing permissions and\n",
              "// limitations under the License.\n",
              "\n",
              "/**\n",
              " * @fileoverview Helpers for google.colab Python module.\n",
              " */\n",
              "(function(scope) {\n",
              "function span(text, styleAttributes = {}) {\n",
              "  const element = document.createElement('span');\n",
              "  element.textContent = text;\n",
              "  for (const key of Object.keys(styleAttributes)) {\n",
              "    element.style[key] = styleAttributes[key];\n",
              "  }\n",
              "  return element;\n",
              "}\n",
              "\n",
              "// Max number of bytes which will be uploaded at a time.\n",
              "const MAX_PAYLOAD_SIZE = 100 * 1024;\n",
              "\n",
              "function _uploadFiles(inputId, outputId) {\n",
              "  const steps = uploadFilesStep(inputId, outputId);\n",
              "  const outputElement = document.getElementById(outputId);\n",
              "  // Cache steps on the outputElement to make it available for the next call\n",
              "  // to uploadFilesContinue from Python.\n",
              "  outputElement.steps = steps;\n",
              "\n",
              "  return _uploadFilesContinue(outputId);\n",
              "}\n",
              "\n",
              "// This is roughly an async generator (not supported in the browser yet),\n",
              "// where there are multiple asynchronous steps and the Python side is going\n",
              "// to poll for completion of each step.\n",
              "// This uses a Promise to block the python side on completion of each step,\n",
              "// then passes the result of the previous step as the input to the next step.\n",
              "function _uploadFilesContinue(outputId) {\n",
              "  const outputElement = document.getElementById(outputId);\n",
              "  const steps = outputElement.steps;\n",
              "\n",
              "  const next = steps.next(outputElement.lastPromiseValue);\n",
              "  return Promise.resolve(next.value.promise).then((value) => {\n",
              "    // Cache the last promise value to make it available to the next\n",
              "    // step of the generator.\n",
              "    outputElement.lastPromiseValue = value;\n",
              "    return next.value.response;\n",
              "  });\n",
              "}\n",
              "\n",
              "/**\n",
              " * Generator function which is called between each async step of the upload\n",
              " * process.\n",
              " * @param {string} inputId Element ID of the input file picker element.\n",
              " * @param {string} outputId Element ID of the output display.\n",
              " * @return {!Iterable<!Object>} Iterable of next steps.\n",
              " */\n",
              "function* uploadFilesStep(inputId, outputId) {\n",
              "  const inputElement = document.getElementById(inputId);\n",
              "  inputElement.disabled = false;\n",
              "\n",
              "  const outputElement = document.getElementById(outputId);\n",
              "  outputElement.innerHTML = '';\n",
              "\n",
              "  const pickedPromise = new Promise((resolve) => {\n",
              "    inputElement.addEventListener('change', (e) => {\n",
              "      resolve(e.target.files);\n",
              "    });\n",
              "  });\n",
              "\n",
              "  const cancel = document.createElement('button');\n",
              "  inputElement.parentElement.appendChild(cancel);\n",
              "  cancel.textContent = 'Cancel upload';\n",
              "  const cancelPromise = new Promise((resolve) => {\n",
              "    cancel.onclick = () => {\n",
              "      resolve(null);\n",
              "    };\n",
              "  });\n",
              "\n",
              "  // Wait for the user to pick the files.\n",
              "  const files = yield {\n",
              "    promise: Promise.race([pickedPromise, cancelPromise]),\n",
              "    response: {\n",
              "      action: 'starting',\n",
              "    }\n",
              "  };\n",
              "\n",
              "  cancel.remove();\n",
              "\n",
              "  // Disable the input element since further picks are not allowed.\n",
              "  inputElement.disabled = true;\n",
              "\n",
              "  if (!files) {\n",
              "    return {\n",
              "      response: {\n",
              "        action: 'complete',\n",
              "      }\n",
              "    };\n",
              "  }\n",
              "\n",
              "  for (const file of files) {\n",
              "    const li = document.createElement('li');\n",
              "    li.append(span(file.name, {fontWeight: 'bold'}));\n",
              "    li.append(span(\n",
              "        `(${file.type || 'n/a'}) - ${file.size} bytes, ` +\n",
              "        `last modified: ${\n",
              "            file.lastModifiedDate ? file.lastModifiedDate.toLocaleDateString() :\n",
              "                                    'n/a'} - `));\n",
              "    const percent = span('0% done');\n",
              "    li.appendChild(percent);\n",
              "\n",
              "    outputElement.appendChild(li);\n",
              "\n",
              "    const fileDataPromise = new Promise((resolve) => {\n",
              "      const reader = new FileReader();\n",
              "      reader.onload = (e) => {\n",
              "        resolve(e.target.result);\n",
              "      };\n",
              "      reader.readAsArrayBuffer(file);\n",
              "    });\n",
              "    // Wait for the data to be ready.\n",
              "    let fileData = yield {\n",
              "      promise: fileDataPromise,\n",
              "      response: {\n",
              "        action: 'continue',\n",
              "      }\n",
              "    };\n",
              "\n",
              "    // Use a chunked sending to avoid message size limits. See b/62115660.\n",
              "    let position = 0;\n",
              "    do {\n",
              "      const length = Math.min(fileData.byteLength - position, MAX_PAYLOAD_SIZE);\n",
              "      const chunk = new Uint8Array(fileData, position, length);\n",
              "      position += length;\n",
              "\n",
              "      const base64 = btoa(String.fromCharCode.apply(null, chunk));\n",
              "      yield {\n",
              "        response: {\n",
              "          action: 'append',\n",
              "          file: file.name,\n",
              "          data: base64,\n",
              "        },\n",
              "      };\n",
              "\n",
              "      let percentDone = fileData.byteLength === 0 ?\n",
              "          100 :\n",
              "          Math.round((position / fileData.byteLength) * 100);\n",
              "      percent.textContent = `${percentDone}% done`;\n",
              "\n",
              "    } while (position < fileData.byteLength);\n",
              "  }\n",
              "\n",
              "  // All done.\n",
              "  yield {\n",
              "    response: {\n",
              "      action: 'complete',\n",
              "    }\n",
              "  };\n",
              "}\n",
              "\n",
              "scope.google = scope.google || {};\n",
              "scope.google.colab = scope.google.colab || {};\n",
              "scope.google.colab._files = {\n",
              "  _uploadFiles,\n",
              "  _uploadFilesContinue,\n",
              "};\n",
              "})(self);\n",
              "</script> "
            ]
          },
          "metadata": {}
        },
        {
          "output_type": "stream",
          "name": "stdout",
          "text": [
            "Saving adsale.csv to adsale.csv\n"
          ]
        }
      ]
    },
    {
      "cell_type": "markdown",
      "source": [
        "## *Load dataset*"
      ],
      "metadata": {
        "id": "PPcAa0CQeOqf"
      }
    },
    {
      "cell_type": "code",
      "source": [
        "dataset = pd.read_csv('adsale.csv')\n",
        "print(dataset)"
      ],
      "metadata": {
        "colab": {
          "base_uri": "https://localhost:8080/"
        },
        "id": "JPmcWLfqeVAB",
        "outputId": "109fe009-a241-4cbe-a33f-8269b351b1b6"
      },
      "execution_count": null,
      "outputs": [
        {
          "output_type": "stream",
          "name": "stdout",
          "text": [
            "    Age  Salary  Status\n",
            "0    18   82000       0\n",
            "1    29   80000       0\n",
            "2    47   25000       1\n",
            "3    45   26000       1\n",
            "4    46   28000       1\n",
            "5    48   29000       1\n",
            "6    45   22000       1\n",
            "7    47   49000       1\n",
            "8    48   41000       1\n",
            "9    45   22000       1\n",
            "10   46   23000       1\n",
            "11   47   20000       1\n",
            "12   49   28000       1\n",
            "13   47   30000       1\n",
            "14   29   43000       0\n",
            "15   31   18000       0\n",
            "16   31   74000       0\n",
            "17   27  137000       1\n",
            "18   21   16000       0\n",
            "19   43   45000       1\n",
            "20   39   59000       0\n",
            "21   46   41000       1\n",
            "22   51   23000       1\n",
            "23   50   20000       1\n",
            "24   36   33000       0\n",
            "25   49   36000       1\n",
            "26   19   19000       0\n",
            "27   35   20000       0\n",
            "28   26   43000       0\n",
            "29   27   57000       0\n",
            "30   19   76000       0\n",
            "31   27   58000       0\n",
            "32   27   84000       0\n",
            "33   32  150000       1\n",
            "34   25   33000       0\n",
            "35   35   65000       0\n",
            "36   26   80000       0\n",
            "37   26   52000       0\n",
            "38   20   86000       0\n",
            "39   32   18000       0\n",
            "40   44  139000       1\n",
            "41   49   28000       1\n",
            "42   57   33000       1\n",
            "43   56   60000       1\n",
            "44   49   39000       1\n",
            "45   39   71000       0\n",
            "46   47   34000       1\n",
            "47   48   35000       1\n",
            "48   48   33000       1\n",
            "49   47   23000       1\n",
            "50   45   45000       1\n",
            "51   60   42000       1\n",
            "52   28   44000       0\n",
            "53   27   90000       0\n",
            "54   35   27000       0\n",
            "55   33   28000       0\n"
          ]
        }
      ]
    },
    {
      "cell_type": "markdown",
      "source": [
        "## *Summarize Dataset*"
      ],
      "metadata": {
        "id": "kWFYW59NfC7Z"
      }
    },
    {
      "cell_type": "code",
      "source": [
        "print(dataset.shape)   #no. of rows and columns\n",
        "print(dataset.head(5)) #top values of data"
      ],
      "metadata": {
        "colab": {
          "base_uri": "https://localhost:8080/"
        },
        "id": "KakLnHTDfHDE",
        "outputId": "c3bc8989-a38b-4b5e-9489-a704162dadfb"
      },
      "execution_count": null,
      "outputs": [
        {
          "output_type": "stream",
          "name": "stdout",
          "text": [
            "(56, 3)\n",
            "   Age  Salary  Status\n",
            "0   18   82000       0\n",
            "1   29   80000       0\n",
            "2   47   25000       1\n",
            "3   45   26000       1\n",
            "4   46   28000       1\n"
          ]
        }
      ]
    },
    {
      "cell_type": "markdown",
      "source": [
        "## *Segregate Dataset into X(Input/IndependentVariable)& Y(Output/DependentVariable)*"
      ],
      "metadata": {
        "id": "6vxrQTbSfZ87"
      }
    },
    {
      "cell_type": "code",
      "source": [
        "X = dataset.iloc[:,:-1].values\n",
        "X"
      ],
      "metadata": {
        "colab": {
          "base_uri": "https://localhost:8080/"
        },
        "id": "Nx-Lhf4cgVz-",
        "outputId": "c9590216-6f29-4ad0-d7da-0d815309d407"
      },
      "execution_count": null,
      "outputs": [
        {
          "output_type": "execute_result",
          "data": {
            "text/plain": [
              "array([[    18,  82000],\n",
              "       [    29,  80000],\n",
              "       [    47,  25000],\n",
              "       [    45,  26000],\n",
              "       [    46,  28000],\n",
              "       [    48,  29000],\n",
              "       [    45,  22000],\n",
              "       [    47,  49000],\n",
              "       [    48,  41000],\n",
              "       [    45,  22000],\n",
              "       [    46,  23000],\n",
              "       [    47,  20000],\n",
              "       [    49,  28000],\n",
              "       [    47,  30000],\n",
              "       [    29,  43000],\n",
              "       [    31,  18000],\n",
              "       [    31,  74000],\n",
              "       [    27, 137000],\n",
              "       [    21,  16000],\n",
              "       [    43,  45000],\n",
              "       [    39,  59000],\n",
              "       [    46,  41000],\n",
              "       [    51,  23000],\n",
              "       [    50,  20000],\n",
              "       [    36,  33000],\n",
              "       [    49,  36000],\n",
              "       [    19,  19000],\n",
              "       [    35,  20000],\n",
              "       [    26,  43000],\n",
              "       [    27,  57000],\n",
              "       [    19,  76000],\n",
              "       [    27,  58000],\n",
              "       [    27,  84000],\n",
              "       [    32, 150000],\n",
              "       [    25,  33000],\n",
              "       [    35,  65000],\n",
              "       [    26,  80000],\n",
              "       [    26,  52000],\n",
              "       [    20,  86000],\n",
              "       [    32,  18000],\n",
              "       [    44, 139000],\n",
              "       [    49,  28000],\n",
              "       [    57,  33000],\n",
              "       [    56,  60000],\n",
              "       [    49,  39000],\n",
              "       [    39,  71000],\n",
              "       [    47,  34000],\n",
              "       [    48,  35000],\n",
              "       [    48,  33000],\n",
              "       [    47,  23000],\n",
              "       [    45,  45000],\n",
              "       [    60,  42000],\n",
              "       [    28,  44000],\n",
              "       [    27,  90000],\n",
              "       [    35,  27000],\n",
              "       [    33,  28000]])"
            ]
          },
          "metadata": {},
          "execution_count": 7
        }
      ]
    },
    {
      "cell_type": "code",
      "source": [
        "Y = dataset.iloc[:,-1].values\n",
        "Y"
      ],
      "metadata": {
        "colab": {
          "base_uri": "https://localhost:8080/"
        },
        "id": "TktKTVPAgnq_",
        "outputId": "c131eacc-20d4-4756-8f41-84933f80491d"
      },
      "execution_count": null,
      "outputs": [
        {
          "output_type": "execute_result",
          "data": {
            "text/plain": [
              "array([0, 0, 1, 1, 1, 1, 1, 1, 1, 1, 1, 1, 1, 1, 0, 0, 0, 1, 0, 1, 0, 1,\n",
              "       1, 1, 0, 1, 0, 0, 0, 0, 0, 0, 0, 1, 0, 0, 0, 0, 0, 0, 1, 1, 1, 1,\n",
              "       1, 0, 1, 1, 1, 1, 1, 1, 0, 0, 0, 0])"
            ]
          },
          "metadata": {},
          "execution_count": 8
        }
      ]
    },
    {
      "cell_type": "markdown",
      "source": [
        "## *Splitting Dataset into Train & Test*"
      ],
      "metadata": {
        "id": "m3V2NWZlg3wa"
      }
    },
    {
      "cell_type": "code",
      "source": [
        "from sklearn.model_selection import train_test_split\n",
        "X_train, X_test, y_train, y_test = train_test_split(X, Y, test_size = 0.25, random_state = 0)"
      ],
      "metadata": {
        "id": "DXd7HrWXhAHh"
      },
      "execution_count": null,
      "outputs": []
    },
    {
      "cell_type": "markdown",
      "source": [
        "## *Feature Scaling*"
      ],
      "metadata": {
        "id": "5ukZ03Zghzii"
      }
    },
    {
      "cell_type": "markdown",
      "source": [
        "we scale our data to make all the features contribute equally to result\n",
        "\n",
        "Fit_Transform- fit method is calculating the mean and variance of each features present in our data.\n",
        "\n",
        "Transform- Transform method is transforming all the features using the respective mean and variance.\n",
        "\n",
        "We want our test data to be completely new and a surprise set for our model"
      ],
      "metadata": {
        "id": "OUJS-5Z0h7SF"
      }
    },
    {
      "cell_type": "code",
      "source": [
        "from sklearn.preprocessing import StandardScaler\n",
        "sc = StandardScaler()\n",
        "X_train = sc.fit_transform(X_train)\n",
        "X_test = sc.transform(X_test)\n",
        "print(X_train)"
      ],
      "metadata": {
        "colab": {
          "base_uri": "https://localhost:8080/"
        },
        "id": "8l_Duo2Qhu39",
        "outputId": "10a3fbfa-ed6e-4888-bf66-78d394c3ae38"
      },
      "execution_count": null,
      "outputs": [
        {
          "output_type": "stream",
          "name": "stdout",
          "text": [
            "[[-1.04154417  0.54709389]\n",
            " [ 0.82789409 -0.86631211]\n",
            " [-1.13501609  0.30479572]\n",
            " [ 0.82789409  0.18364663]\n",
            " [-0.85460035 -0.05865154]\n",
            " [-0.29376887 -0.9874612 ]\n",
            " [-0.29376887  0.82977509]\n",
            " [ 0.64095026  0.02211452]\n",
            " [-1.60237565 -1.14899331]\n",
            " [-0.94807226 -0.01826851]\n",
            " [-1.228488   -0.46248183]\n",
            " [-0.66765652 -1.06822726]\n",
            " [ 0.921366   -0.62401394]\n",
            " [-1.04154417  0.50671086]\n",
            " [-0.66765652  1.19322235]\n",
            " [-0.29376887 -0.70478   ]\n",
            " [ 0.08011878  0.58747692]\n",
            " [ 0.921366   -0.46248183]\n",
            " [ 0.921366   -0.1394176 ]\n",
            " [ 0.82789409 -0.58363091]\n",
            " [ 1.01483791 -0.34133274]\n",
            " [-1.04154417  3.73735315]\n",
            " [ 1.01483791 -0.66439697]\n",
            " [-0.4807127  -0.66439697]\n",
            " [-1.69584756  1.67781869]\n",
            " [-0.85460035  1.43552052]\n",
            " [ 1.01483791 -0.66439697]\n",
            " [ 1.76261322 -0.46248183]\n",
            " [-0.20029696 -0.46248183]\n",
            " [ 0.64095026 -0.90669514]\n",
            " [ 1.10830983 -0.9874612 ]\n",
            " [-1.13501609  1.43552052]\n",
            " [ 0.73442217 -0.1394176 ]\n",
            " [ 0.45400643  0.02211452]\n",
            " [ 0.64095026 -0.90669514]\n",
            " [-0.57418461 -1.06822726]\n",
            " [ 2.04302895 -0.09903457]\n",
            " [ 0.64095026 -0.74516303]\n",
            " [-1.88279139  1.51628657]\n",
            " [-1.04154417  1.8393508 ]\n",
            " [ 0.921366   -0.38171577]\n",
            " [ 1.01483791 -0.22018366]]\n"
          ]
        }
      ]
    },
    {
      "cell_type": "markdown",
      "source": [
        "## *Training*"
      ],
      "metadata": {
        "id": "mbjDU9vmjwmr"
      }
    },
    {
      "cell_type": "code",
      "source": [
        "from sklearn.linear_model import LogisticRegression\n",
        "model = LogisticRegression()   #loading the algo\n",
        "model.fit(X_train, y_train)    #train"
      ],
      "metadata": {
        "colab": {
          "base_uri": "https://localhost:8080/"
        },
        "id": "5bTKpS0xj8dy",
        "outputId": "919b320f-f91e-4d45-eceb-b0f9144c9994"
      },
      "execution_count": null,
      "outputs": [
        {
          "output_type": "execute_result",
          "data": {
            "text/plain": [
              "LogisticRegression()"
            ]
          },
          "metadata": {},
          "execution_count": 11
        }
      ]
    },
    {
      "cell_type": "markdown",
      "source": [
        "### Predicting, whether new customer with Age and Salary will Buy or *Not* *italicized text*"
      ],
      "metadata": {
        "id": "2_t3BsHgkUnP"
      }
    },
    {
      "cell_type": "code",
      "source": [
        "age = int(input(\"Enter New Customer's Age: \"))\n",
        "sal = int(input(\"Enter New Customer's Salary: \"))\n",
        "newCust = [[age,sal]]\n",
        "result = model.predict(sc.transform(newCust))\n",
        "print(result)\n",
        "if result == 1:\n",
        "  print(\"Customer will Buy\")\n",
        "else:\n",
        "  print(\"Customer won't Buy\")"
      ],
      "metadata": {
        "colab": {
          "base_uri": "https://localhost:8080/"
        },
        "id": "mmDcQLyxlPC7",
        "outputId": "3ae2dc61-23ef-4c4c-a7e3-9d7ef6f2d808"
      },
      "execution_count": null,
      "outputs": [
        {
          "output_type": "stream",
          "name": "stdout",
          "text": [
            "Enter New Customer's Age: 70\n",
            "Enter New Customer's Salary: 90000\n",
            "[1]\n",
            "Customer will Buy\n"
          ]
        }
      ]
    },
    {
      "cell_type": "markdown",
      "source": [
        "## *Prediction for all Test Data*"
      ],
      "metadata": {
        "id": "lynFVOWUmHVA"
      }
    },
    {
      "cell_type": "code",
      "source": [
        "y_pred = model.predict(X_test)\n",
        "#print(np.concatenate((y_pred.reshape(len(y_pred),1), y_test.reshape(len(y_test),1)),1))"
      ],
      "metadata": {
        "id": "-WkgjCt-mNbl"
      },
      "execution_count": null,
      "outputs": []
    },
    {
      "cell_type": "code",
      "source": [
        "print(np.concatenate((y_pred.reshape(len(y_pred),1), y_test.reshape(len(y_test),1)),1))"
      ],
      "metadata": {
        "colab": {
          "base_uri": "https://localhost:8080/"
        },
        "id": "e-Mn39KXttf-",
        "outputId": "d1eea082-d42a-4cc6-bf67-785dc9039628"
      },
      "execution_count": null,
      "outputs": [
        {
          "output_type": "stream",
          "name": "stdout",
          "text": [
            "[[1 0]\n",
            " [1 1]\n",
            " [1 1]\n",
            " [0 0]\n",
            " [1 1]\n",
            " [1 1]\n",
            " [0 0]\n",
            " [1 1]\n",
            " [1 1]\n",
            " [0 0]\n",
            " [1 1]\n",
            " [1 1]\n",
            " [0 0]\n",
            " [1 1]]\n"
          ]
        }
      ]
    },
    {
      "cell_type": "markdown",
      "source": [
        "## *Evaluating Model - CONFUSION MATRIX*\n",
        "![Performance-measurement-TP-TN-FP-FN-are-the-parameters-used-in-the-evaluation-of.png](data:image/png;base64,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)"
      ],
      "metadata": {
        "id": "unKeYL4osE_C"
      }
    },
    {
      "cell_type": "code",
      "source": [
        "#from sklearn.metrics import confusion_matrix, accurary_score\n",
        "from sklearn.metrics import accuracy_score\n",
        "#cm = confusion_matrix(y_test, y_pred)\n",
        "\n",
        "#print(\"Confusion Matrix: \")\n",
        "#print(cm)\n",
        "\n",
        "print(\"Accuracy of the Model: {0}%\".format(accuracy_score(y_test, y_pred)*100))"
      ],
      "metadata": {
        "colab": {
          "base_uri": "https://localhost:8080/"
        },
        "id": "jq_C54Obt0RJ",
        "outputId": "3b2ea1e0-e8c1-459c-b6f3-f38646330c3f"
      },
      "execution_count": null,
      "outputs": [
        {
          "output_type": "stream",
          "name": "stdout",
          "text": [
            "Accuracy of the Model: 92.85714285714286%\n"
          ]
        }
      ]
    },
    {
      "cell_type": "code",
      "source": [
        "from sklearn.metrics import confusion_matrix\n",
        "cm = confusion_matrix(y_test, y_pred)\n",
        "\n",
        "print(\"Confusion Matrix: \")\n",
        "print(cm)"
      ],
      "metadata": {
        "colab": {
          "base_uri": "https://localhost:8080/"
        },
        "id": "612Jb0IatJnQ",
        "outputId": "1323479f-70f0-4fc0-ab8e-feebf821a511"
      },
      "execution_count": null,
      "outputs": [
        {
          "output_type": "stream",
          "name": "stdout",
          "text": [
            "Confusion Matrix: \n",
            "[[4 1]\n",
            " [0 9]]\n"
          ]
        }
      ]
    }
  ]
}